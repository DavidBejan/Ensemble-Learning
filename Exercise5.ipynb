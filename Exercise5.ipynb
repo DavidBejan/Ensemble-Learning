{
 "cells": [
  {
   "cell_type": "code",
   "execution_count": 1,
   "metadata": {},
   "outputs": [],
   "source": [
    "import os\n",
    "import tqdm\n",
    "import numpy as np\n",
    "import pandas as pd\n",
    "import seaborn as sn\n",
    "import sklearn as sk\n",
    "from sklearn import ensemble, model_selection, metrics, tree\n",
    "import matplotlib.pyplot as plt"
   ]
  },
  {
   "cell_type": "code",
   "execution_count": 2,
   "metadata": {},
   "outputs": [],
   "source": [
    "wine = pd.read_csv(\"C:/Users/David/Ensemble Execise 5/data/winequality-red.csv\",sep=\";\")\n",
    "y = np.array(wine[\"quality\"].tolist())\n",
    "X = wine.drop(\"quality\", axis=1)"
   ]
  },
  {
   "cell_type": "code",
   "execution_count": 3,
   "metadata": {},
   "outputs": [
    {
     "data": {
      "text/plain": [
       "Text(0.5, 1.0, 'Quality Distribution')"
      ]
     },
     "execution_count": 3,
     "metadata": {},
     "output_type": "execute_result"
    },
    {
     "data": {
      "image/png": "[encoded data removed]",
      "text/plain": [
       "<Figure size 432x288 with 1 Axes>"
      ]
     },
     "metadata": {
      "needs_background": "light"
     },
     "output_type": "display_data"
    }
   ],
   "source": [
    "fig, ax = plt.subplots(1, 1)\n",
    "ax.grid(zorder=0)\n",
    "ax.hist(y, bins=np.arange(3,11)-0.5, rwidth=0.9, zorder=2)\n",
    "ax.set_xlabel(\"Quality\")\n",
    "ax.set_ylabel(\"Frequency\")\n",
    "ax.set_title(\"Quality Distribution\")"
   ]
  },
  {
   "cell_type": "code",
   "execution_count": 5,
   "metadata": {},
   "outputs": [
    {
     "name": "stderr",
     "output_type": "stream",
     "text": [
      "\r",
      "  0%|                                                     | 0/5 [00:00<?, ?it/s]"
     ]
    },
    {
     "name": "stdout",
     "output_type": "stream",
     "text": [
      "Running AdaBoost with learning_rate=0.2 and max_depth=1\n"
     ]
    },
    {
     "name": "stderr",
     "output_type": "stream",
     "text": [
      "100%|█████████████████████████████████████████████| 5/5 [00:01<00:00,  3.08it/s]\n",
      "  0%|                                                     | 0/5 [00:00<?, ?it/s]"
     ]
    },
    {
     "name": "stdout",
     "output_type": "stream",
     "text": [
      "Running AdaBoost with learning_rate=0.2 and max_depth=2\n"
     ]
    },
    {
     "name": "stderr",
     "output_type": "stream",
     "text": [
      "100%|█████████████████████████████████████████████| 5/5 [00:01<00:00,  2.55it/s]\n",
      "  0%|                                                     | 0/5 [00:00<?, ?it/s]"
     ]
    },
    {
     "name": "stdout",
     "output_type": "stream",
     "text": [
      "Running AdaBoost with learning_rate=0.2 and max_depth=3\n"
     ]
    },
    {
     "name": "stderr",
     "output_type": "stream",
     "text": [
      "100%|█████████████████████████████████████████████| 5/5 [00:02<00:00,  2.09it/s]\n",
      "  0%|                                                     | 0/5 [00:00<?, ?it/s]"
     ]
    },
    {
     "name": "stdout",
     "output_type": "stream",
     "text": [
      "Running AdaBoost with learning_rate=0.2 and max_depth=4\n"
     ]
    },
    {
     "name": "stderr",
     "output_type": "stream",
     "text": [
      "100%|█████████████████████████████████████████████| 5/5 [00:02<00:00,  1.76it/s]\n",
      "  0%|                                                     | 0/5 [00:00<?, ?it/s]"
     ]
    },
    {
     "name": "stdout",
     "output_type": "stream",
     "text": [
      "Running AdaBoost with learning_rate=0.2 and max_depth=5\n"
     ]
    },
    {
     "name": "stderr",
     "output_type": "stream",
     "text": [
      "100%|█████████████████████████████████████████████| 5/5 [00:03<00:00,  1.42it/s]\n",
      "  0%|                                                     | 0/5 [00:00<?, ?it/s]"
     ]
    },
    {
     "name": "stdout",
     "output_type": "stream",
     "text": [
      "Running AdaBoost with learning_rate=0.2 and max_depth=6\n"
     ]
    },
    {
     "name": "stderr",
     "output_type": "stream",
     "text": [
      "100%|█████████████████████████████████████████████| 5/5 [00:03<00:00,  1.29it/s]\n",
      "  0%|                                                     | 0/5 [00:00<?, ?it/s]"
     ]
    },
    {
     "name": "stdout",
     "output_type": "stream",
     "text": [
      "Running AdaBoost with learning_rate=0.2 and max_depth=7\n"
     ]
    },
    {
     "name": "stderr",
     "output_type": "stream",
     "text": [
      "100%|█████████████████████████████████████████████| 5/5 [00:04<00:00,  1.19it/s]\n",
      "C:\\Users\\David\\Anaconda3\\lib\\site-packages\\sklearn\\tree\\_classes.py:590: RuntimeWarning: invalid value encountered in true_divide\n",
      "  return self.tree_.compute_feature_importances()\n",
      "  0%|                                                     | 0/5 [00:00<?, ?it/s]"
     ]
    },
    {
     "name": "stdout",
     "output_type": "stream",
     "text": [
      "Running AdaBoost with learning_rate=0.2 and max_depth=8\n"
     ]
    },
    {
     "name": "stderr",
     "output_type": "stream",
     "text": [
      "100%|█████████████████████████████████████████████| 5/5 [00:04<00:00,  1.11it/s]\n",
      "C:\\Users\\David\\Anaconda3\\lib\\site-packages\\sklearn\\tree\\_classes.py:590: RuntimeWarning: invalid value encountered in true_divide\n",
      "  return self.tree_.compute_feature_importances()\n",
      "  0%|                                                     | 0/5 [00:00<?, ?it/s]"
     ]
    },
    {
     "name": "stdout",
     "output_type": "stream",
     "text": [
      "Running AdaBoost with learning_rate=0.2 and max_depth=9\n"
     ]
    },
    {
     "name": "stderr",
     "output_type": "stream",
     "text": [
      "100%|█████████████████████████████████████████████| 5/5 [00:04<00:00,  1.03it/s]\n",
      "C:\\Users\\David\\Anaconda3\\lib\\site-packages\\sklearn\\tree\\_classes.py:590: RuntimeWarning: invalid value encountered in true_divide\n",
      "  return self.tree_.compute_feature_importances()\n",
      "  0%|                                                     | 0/5 [00:00<?, ?it/s]"
     ]
    },
    {
     "name": "stdout",
     "output_type": "stream",
     "text": [
      "Running AdaBoost with learning_rate=0.2 and max_depth=10\n"
     ]
    },
    {
     "name": "stderr",
     "output_type": "stream",
     "text": [
      "100%|█████████████████████████████████████████████| 5/5 [00:05<00:00,  1.01s/it]\n",
      "C:\\Users\\David\\Anaconda3\\lib\\site-packages\\sklearn\\tree\\_classes.py:590: RuntimeWarning: invalid value encountered in true_divide\n",
      "  return self.tree_.compute_feature_importances()\n",
      "  0%|                                                     | 0/5 [00:00<?, ?it/s]"
     ]
    },
    {
     "name": "stdout",
     "output_type": "stream",
     "text": [
      "Running AdaBoost with learning_rate=0.4 and max_depth=1\n"
     ]
    },
    {
     "name": "stderr",
     "output_type": "stream",
     "text": [
      "100%|█████████████████████████████████████████████| 5/5 [00:01<00:00,  3.43it/s]\n",
      "  0%|                                                     | 0/5 [00:00<?, ?it/s]"
     ]
    },
    {
     "name": "stdout",
     "output_type": "stream",
     "text": [
      "Running AdaBoost with learning_rate=0.4 and max_depth=2\n"
     ]
    },
    {
     "name": "stderr",
     "output_type": "stream",
     "text": [
      "100%|█████████████████████████████████████████████| 5/5 [00:01<00:00,  2.67it/s]\n",
      "  0%|                                                     | 0/5 [00:00<?, ?it/s]"
     ]
    },
    {
     "name": "stdout",
     "output_type": "stream",
     "text": [
      "Running AdaBoost with learning_rate=0.4 and max_depth=3\n"
     ]
    },
    {
     "name": "stderr",
     "output_type": "stream",
     "text": [
      "100%|█████████████████████████████████████████████| 5/5 [00:02<00:00,  2.19it/s]\n",
      "  0%|                                                     | 0/5 [00:00<?, ?it/s]"
     ]
    },
    {
     "name": "stdout",
     "output_type": "stream",
     "text": [
      "Running AdaBoost with learning_rate=0.4 and max_depth=4\n"
     ]
    },
    {
     "name": "stderr",
     "output_type": "stream",
     "text": [
      "100%|█████████████████████████████████████████████| 5/5 [00:02<00:00,  1.76it/s]\n",
      "  0%|                                                     | 0/5 [00:00<?, ?it/s]"
     ]
    },
    {
     "name": "stdout",
     "output_type": "stream",
     "text": [
      "Running AdaBoost with learning_rate=0.4 and max_depth=5\n"
     ]
    },
    {
     "name": "stderr",
     "output_type": "stream",
     "text": [
      "100%|█████████████████████████████████████████████| 5/5 [00:03<00:00,  1.60it/s]\n",
      "  0%|                                                     | 0/5 [00:00<?, ?it/s]"
     ]
    },
    {
     "name": "stdout",
     "output_type": "stream",
     "text": [
      "Running AdaBoost with learning_rate=0.4 and max_depth=6\n"
     ]
    },
    {
     "name": "stderr",
     "output_type": "stream",
     "text": [
      "100%|█████████████████████████████████████████████| 5/5 [00:03<00:00,  1.39it/s]\n",
      "C:\\Users\\David\\Anaconda3\\lib\\site-packages\\sklearn\\tree\\_classes.py:590: RuntimeWarning: invalid value encountered in true_divide\n",
      "  return self.tree_.compute_feature_importances()\n",
      "  0%|                                                     | 0/5 [00:00<?, ?it/s]"
     ]
    },
    {
     "name": "stdout",
     "output_type": "stream",
     "text": [
      "Running AdaBoost with learning_rate=0.4 and max_depth=7\n"
     ]
    },
    {
     "name": "stderr",
     "output_type": "stream",
     "text": [
      "100%|█████████████████████████████████████████████| 5/5 [00:04<00:00,  1.15it/s]\n",
      "C:\\Users\\David\\Anaconda3\\lib\\site-packages\\sklearn\\tree\\_classes.py:590: RuntimeWarning: invalid value encountered in true_divide\n",
      "  return self.tree_.compute_feature_importances()\n",
      "  0%|                                                     | 0/5 [00:00<?, ?it/s]"
     ]
    },
    {
     "name": "stdout",
     "output_type": "stream",
     "text": [
      "Running AdaBoost with learning_rate=0.4 and max_depth=8\n"
     ]
    },
    {
     "name": "stderr",
     "output_type": "stream",
     "text": [
      "100%|█████████████████████████████████████████████| 5/5 [00:04<00:00,  1.10it/s]\n",
      "C:\\Users\\David\\Anaconda3\\lib\\site-packages\\sklearn\\tree\\_classes.py:590: RuntimeWarning: invalid value encountered in true_divide\n",
      "  return self.tree_.compute_feature_importances()\n",
      "  0%|                                                     | 0/5 [00:00<?, ?it/s]"
     ]
    },
    {
     "name": "stdout",
     "output_type": "stream",
     "text": [
      "Running AdaBoost with learning_rate=0.4 and max_depth=9\n"
     ]
    },
    {
     "name": "stderr",
     "output_type": "stream",
     "text": [
      "100%|█████████████████████████████████████████████| 5/5 [00:05<00:00,  1.01s/it]\n",
      "C:\\Users\\David\\Anaconda3\\lib\\site-packages\\sklearn\\tree\\_classes.py:590: RuntimeWarning: invalid value encountered in true_divide\n",
      "  return self.tree_.compute_feature_importances()\n",
      "  0%|                                                     | 0/5 [00:00<?, ?it/s]"
     ]
    },
    {
     "name": "stdout",
     "output_type": "stream",
     "text": [
      "Running AdaBoost with learning_rate=0.4 and max_depth=10\n"
     ]
    },
    {
     "name": "stderr",
     "output_type": "stream",
     "text": [
      "100%|█████████████████████████████████████████████| 5/5 [00:05<00:00,  1.12s/it]\n",
      "C:\\Users\\David\\Anaconda3\\lib\\site-packages\\sklearn\\tree\\_classes.py:590: RuntimeWarning: invalid value encountered in true_divide\n",
      "  return self.tree_.compute_feature_importances()\n",
      "  0%|                                                     | 0/5 [00:00<?, ?it/s]"
     ]
    },
    {
     "name": "stdout",
     "output_type": "stream",
     "text": [
      "Running AdaBoost with learning_rate=0.6000000000000001 and max_depth=1\n"
     ]
    },
    {
     "name": "stderr",
     "output_type": "stream",
     "text": [
      "100%|█████████████████████████████████████████████| 5/5 [00:01<00:00,  3.30it/s]\n",
      "  0%|                                                     | 0/5 [00:00<?, ?it/s]"
     ]
    },
    {
     "name": "stdout",
     "output_type": "stream",
     "text": [
      "Running AdaBoost with learning_rate=0.6000000000000001 and max_depth=2\n"
     ]
    },
    {
     "name": "stderr",
     "output_type": "stream",
     "text": [
      "100%|█████████████████████████████████████████████| 5/5 [00:01<00:00,  2.59it/s]\n",
      "  0%|                                                     | 0/5 [00:00<?, ?it/s]"
     ]
    },
    {
     "name": "stdout",
     "output_type": "stream",
     "text": [
      "Running AdaBoost with learning_rate=0.6000000000000001 and max_depth=3\n"
     ]
    },
    {
     "name": "stderr",
     "output_type": "stream",
     "text": [
      "100%|█████████████████████████████████████████████| 5/5 [00:02<00:00,  2.26it/s]\n",
      "  0%|                                                     | 0/5 [00:00<?, ?it/s]"
     ]
    },
    {
     "name": "stdout",
     "output_type": "stream",
     "text": [
      "Running AdaBoost with learning_rate=0.6000000000000001 and max_depth=4\n"
     ]
    },
    {
     "name": "stderr",
     "output_type": "stream",
     "text": [
      "100%|█████████████████████████████████████████████| 5/5 [00:02<00:00,  1.96it/s]\n",
      "  0%|                                                     | 0/5 [00:00<?, ?it/s]"
     ]
    },
    {
     "name": "stdout",
     "output_type": "stream",
     "text": [
      "Running AdaBoost with learning_rate=0.6000000000000001 and max_depth=5\n"
     ]
    },
    {
     "name": "stderr",
     "output_type": "stream",
     "text": [
      "100%|█████████████████████████████████████████████| 5/5 [00:03<00:00,  1.64it/s]\n",
      "  0%|                                                     | 0/5 [00:00<?, ?it/s]"
     ]
    },
    {
     "name": "stdout",
     "output_type": "stream",
     "text": [
      "Running AdaBoost with learning_rate=0.6000000000000001 and max_depth=6\n"
     ]
    },
    {
     "name": "stderr",
     "output_type": "stream",
     "text": [
      "100%|█████████████████████████████████████████████| 5/5 [00:03<00:00,  1.41it/s]\n",
      "  0%|                                                     | 0/5 [00:00<?, ?it/s]"
     ]
    },
    {
     "name": "stdout",
     "output_type": "stream",
     "text": [
      "Running AdaBoost with learning_rate=0.6000000000000001 and max_depth=7\n"
     ]
    },
    {
     "name": "stderr",
     "output_type": "stream",
     "text": [
      "100%|█████████████████████████████████████████████| 5/5 [00:03<00:00,  1.25it/s]\n",
      "C:\\Users\\David\\Anaconda3\\lib\\site-packages\\sklearn\\tree\\_classes.py:590: RuntimeWarning: invalid value encountered in true_divide\n",
      "  return self.tree_.compute_feature_importances()\n",
      "  0%|                                                     | 0/5 [00:00<?, ?it/s]"
     ]
    },
    {
     "name": "stdout",
     "output_type": "stream",
     "text": [
      "Running AdaBoost with learning_rate=0.6000000000000001 and max_depth=8\n"
     ]
    },
    {
     "name": "stderr",
     "output_type": "stream",
     "text": [
      "100%|█████████████████████████████████████████████| 5/5 [00:04<00:00,  1.16it/s]\n",
      "C:\\Users\\David\\Anaconda3\\lib\\site-packages\\sklearn\\tree\\_classes.py:590: RuntimeWarning: invalid value encountered in true_divide\n",
      "  return self.tree_.compute_feature_importances()\n",
      "  0%|                                                     | 0/5 [00:00<?, ?it/s]"
     ]
    },
    {
     "name": "stdout",
     "output_type": "stream",
     "text": [
      "Running AdaBoost with learning_rate=0.6000000000000001 and max_depth=9\n"
     ]
    },
    {
     "name": "stderr",
     "output_type": "stream",
     "text": [
      "100%|█████████████████████████████████████████████| 5/5 [00:06<00:00,  1.23s/it]\n",
      "C:\\Users\\David\\Anaconda3\\lib\\site-packages\\sklearn\\tree\\_classes.py:590: RuntimeWarning: invalid value encountered in true_divide\n",
      "  return self.tree_.compute_feature_importances()\n",
      "  0%|                                                     | 0/5 [00:00<?, ?it/s]"
     ]
    },
    {
     "name": "stdout",
     "output_type": "stream",
     "text": [
      "Running AdaBoost with learning_rate=0.6000000000000001 and max_depth=10\n"
     ]
    },
    {
     "name": "stderr",
     "output_type": "stream",
     "text": [
      "100%|█████████████████████████████████████████████| 5/5 [00:07<00:00,  1.57s/it]\n",
      "C:\\Users\\David\\Anaconda3\\lib\\site-packages\\sklearn\\tree\\_classes.py:590: RuntimeWarning: invalid value encountered in true_divide\n",
      "  return self.tree_.compute_feature_importances()\n",
      "  0%|                                                     | 0/5 [00:00<?, ?it/s]"
     ]
    },
    {
     "name": "stdout",
     "output_type": "stream",
     "text": [
      "Running AdaBoost with learning_rate=0.8 and max_depth=1\n"
     ]
    },
    {
     "name": "stderr",
     "output_type": "stream",
     "text": [
      "100%|█████████████████████████████████████████████| 5/5 [00:01<00:00,  3.02it/s]\n",
      "  0%|                                                     | 0/5 [00:00<?, ?it/s]"
     ]
    },
    {
     "name": "stdout",
     "output_type": "stream",
     "text": [
      "Running AdaBoost with learning_rate=0.8 and max_depth=2\n"
     ]
    },
    {
     "name": "stderr",
     "output_type": "stream",
     "text": [
      "100%|█████████████████████████████████████████████| 5/5 [00:02<00:00,  2.39it/s]\n",
      "  0%|                                                     | 0/5 [00:00<?, ?it/s]"
     ]
    },
    {
     "name": "stdout",
     "output_type": "stream",
     "text": [
      "Running AdaBoost with learning_rate=0.8 and max_depth=3\n"
     ]
    },
    {
     "name": "stderr",
     "output_type": "stream",
     "text": [
      "100%|█████████████████████████████████████████████| 5/5 [00:02<00:00,  1.76it/s]\n",
      "  0%|                                                     | 0/5 [00:00<?, ?it/s]"
     ]
    },
    {
     "name": "stdout",
     "output_type": "stream",
     "text": [
      "Running AdaBoost with learning_rate=0.8 and max_depth=4\n"
     ]
    },
    {
     "name": "stderr",
     "output_type": "stream",
     "text": [
      "100%|█████████████████████████████████████████████| 5/5 [00:03<00:00,  1.50it/s]\n",
      "  0%|                                                     | 0/5 [00:00<?, ?it/s]"
     ]
    },
    {
     "name": "stdout",
     "output_type": "stream",
     "text": [
      "Running AdaBoost with learning_rate=0.8 and max_depth=5\n"
     ]
    },
    {
     "name": "stderr",
     "output_type": "stream",
     "text": [
      "100%|█████████████████████████████████████████████| 5/5 [00:04<00:00,  1.16it/s]\n",
      "C:\\Users\\David\\Anaconda3\\lib\\site-packages\\sklearn\\tree\\_classes.py:590: RuntimeWarning: invalid value encountered in true_divide\n",
      "  return self.tree_.compute_feature_importances()\n",
      "  0%|                                                     | 0/5 [00:00<?, ?it/s]"
     ]
    },
    {
     "name": "stdout",
     "output_type": "stream",
     "text": [
      "Running AdaBoost with learning_rate=0.8 and max_depth=6\n"
     ]
    },
    {
     "name": "stderr",
     "output_type": "stream",
     "text": [
      "100%|█████████████████████████████████████████████| 5/5 [00:04<00:00,  1.10it/s]\n",
      "C:\\Users\\David\\Anaconda3\\lib\\site-packages\\sklearn\\tree\\_classes.py:590: RuntimeWarning: invalid value encountered in true_divide\n",
      "  return self.tree_.compute_feature_importances()\n",
      "  0%|                                                     | 0/5 [00:00<?, ?it/s]"
     ]
    },
    {
     "name": "stdout",
     "output_type": "stream",
     "text": [
      "Running AdaBoost with learning_rate=0.8 and max_depth=7\n"
     ]
    },
    {
     "name": "stderr",
     "output_type": "stream",
     "text": [
      "100%|█████████████████████████████████████████████| 5/5 [00:04<00:00,  1.13it/s]\n",
      "C:\\Users\\David\\Anaconda3\\lib\\site-packages\\sklearn\\tree\\_classes.py:590: RuntimeWarning: invalid value encountered in true_divide\n",
      "  return self.tree_.compute_feature_importances()\n",
      "  0%|                                                     | 0/5 [00:00<?, ?it/s]"
     ]
    },
    {
     "name": "stdout",
     "output_type": "stream",
     "text": [
      "Running AdaBoost with learning_rate=0.8 and max_depth=8\n"
     ]
    },
    {
     "name": "stderr",
     "output_type": "stream",
     "text": [
      "100%|█████████████████████████████████████████████| 5/5 [00:05<00:00,  1.01s/it]\n",
      "C:\\Users\\David\\Anaconda3\\lib\\site-packages\\sklearn\\tree\\_classes.py:590: RuntimeWarning: invalid value encountered in true_divide\n",
      "  return self.tree_.compute_feature_importances()\n",
      "  0%|                                                     | 0/5 [00:00<?, ?it/s]"
     ]
    },
    {
     "name": "stdout",
     "output_type": "stream",
     "text": [
      "Running AdaBoost with learning_rate=0.8 and max_depth=9\n"
     ]
    },
    {
     "name": "stderr",
     "output_type": "stream",
     "text": [
      "100%|█████████████████████████████████████████████| 5/5 [00:05<00:00,  1.03s/it]\n",
      "C:\\Users\\David\\Anaconda3\\lib\\site-packages\\sklearn\\tree\\_classes.py:590: RuntimeWarning: invalid value encountered in true_divide\n",
      "  return self.tree_.compute_feature_importances()\n",
      "  0%|                                                     | 0/5 [00:00<?, ?it/s]"
     ]
    },
    {
     "name": "stdout",
     "output_type": "stream",
     "text": [
      "Running AdaBoost with learning_rate=0.8 and max_depth=10\n"
     ]
    },
    {
     "name": "stderr",
     "output_type": "stream",
     "text": [
      "100%|█████████████████████████████████████████████| 5/5 [00:05<00:00,  1.00s/it]\n",
      "C:\\Users\\David\\Anaconda3\\lib\\site-packages\\sklearn\\tree\\_classes.py:590: RuntimeWarning: invalid value encountered in true_divide\n",
      "  return self.tree_.compute_feature_importances()\n",
      "  0%|                                                     | 0/5 [00:00<?, ?it/s]"
     ]
    },
    {
     "name": "stdout",
     "output_type": "stream",
     "text": [
      "Running AdaBoost with learning_rate=1.0 and max_depth=1\n"
     ]
    },
    {
     "name": "stderr",
     "output_type": "stream",
     "text": [
      "100%|█████████████████████████████████████████████| 5/5 [00:01<00:00,  3.62it/s]\n",
      "  0%|                                                     | 0/5 [00:00<?, ?it/s]"
     ]
    },
    {
     "name": "stdout",
     "output_type": "stream",
     "text": [
      "Running AdaBoost with learning_rate=1.0 and max_depth=2\n"
     ]
    },
    {
     "name": "stderr",
     "output_type": "stream",
     "text": [
      "100%|█████████████████████████████████████████████| 5/5 [00:01<00:00,  2.84it/s]\n",
      "  0%|                                                     | 0/5 [00:00<?, ?it/s]"
     ]
    },
    {
     "name": "stdout",
     "output_type": "stream",
     "text": [
      "Running AdaBoost with learning_rate=1.0 and max_depth=3\n"
     ]
    },
    {
     "name": "stderr",
     "output_type": "stream",
     "text": [
      "100%|█████████████████████████████████████████████| 5/5 [00:02<00:00,  2.34it/s]\n",
      "  0%|                                                     | 0/5 [00:00<?, ?it/s]"
     ]
    },
    {
     "name": "stdout",
     "output_type": "stream",
     "text": [
      "Running AdaBoost with learning_rate=1.0 and max_depth=4\n"
     ]
    },
    {
     "name": "stderr",
     "output_type": "stream",
     "text": [
      "100%|█████████████████████████████████████████████| 5/5 [00:02<00:00,  1.99it/s]\n",
      "  0%|                                                     | 0/5 [00:00<?, ?it/s]"
     ]
    },
    {
     "name": "stdout",
     "output_type": "stream",
     "text": [
      "Running AdaBoost with learning_rate=1.0 and max_depth=5\n"
     ]
    },
    {
     "name": "stderr",
     "output_type": "stream",
     "text": [
      "100%|█████████████████████████████████████████████| 5/5 [00:02<00:00,  1.70it/s]\n",
      "  0%|                                                     | 0/5 [00:00<?, ?it/s]"
     ]
    },
    {
     "name": "stdout",
     "output_type": "stream",
     "text": [
      "Running AdaBoost with learning_rate=1.0 and max_depth=6\n"
     ]
    },
    {
     "name": "stderr",
     "output_type": "stream",
     "text": [
      "100%|█████████████████████████████████████████████| 5/5 [00:03<00:00,  1.48it/s]\n",
      "C:\\Users\\David\\Anaconda3\\lib\\site-packages\\sklearn\\tree\\_classes.py:590: RuntimeWarning: invalid value encountered in true_divide\n",
      "  return self.tree_.compute_feature_importances()\n",
      "  0%|                                                     | 0/5 [00:00<?, ?it/s]"
     ]
    },
    {
     "name": "stdout",
     "output_type": "stream",
     "text": [
      "Running AdaBoost with learning_rate=1.0 and max_depth=7\n"
     ]
    },
    {
     "name": "stderr",
     "output_type": "stream",
     "text": [
      "100%|█████████████████████████████████████████████| 5/5 [00:03<00:00,  1.32it/s]\n",
      "C:\\Users\\David\\Anaconda3\\lib\\site-packages\\sklearn\\tree\\_classes.py:590: RuntimeWarning: invalid value encountered in true_divide\n",
      "  return self.tree_.compute_feature_importances()\n",
      "  0%|                                                     | 0/5 [00:00<?, ?it/s]"
     ]
    },
    {
     "name": "stdout",
     "output_type": "stream",
     "text": [
      "Running AdaBoost with learning_rate=1.0 and max_depth=8\n"
     ]
    },
    {
     "name": "stderr",
     "output_type": "stream",
     "text": [
      "100%|█████████████████████████████████████████████| 5/5 [00:04<00:00,  1.16it/s]\n",
      "C:\\Users\\David\\Anaconda3\\lib\\site-packages\\sklearn\\tree\\_classes.py:590: RuntimeWarning: invalid value encountered in true_divide\n",
      "  return self.tree_.compute_feature_importances()\n",
      "  0%|                                                     | 0/5 [00:00<?, ?it/s]"
     ]
    },
    {
     "name": "stdout",
     "output_type": "stream",
     "text": [
      "Running AdaBoost with learning_rate=1.0 and max_depth=9\n"
     ]
    },
    {
     "name": "stderr",
     "output_type": "stream",
     "text": [
      "100%|█████████████████████████████████████████████| 5/5 [00:04<00:00,  1.04it/s]\n",
      "C:\\Users\\David\\Anaconda3\\lib\\site-packages\\sklearn\\tree\\_classes.py:590: RuntimeWarning: invalid value encountered in true_divide\n",
      "  return self.tree_.compute_feature_importances()\n",
      "  0%|                                                     | 0/5 [00:00<?, ?it/s]"
     ]
    },
    {
     "name": "stdout",
     "output_type": "stream",
     "text": [
      "Running AdaBoost with learning_rate=1.0 and max_depth=10\n"
     ]
    },
    {
     "name": "stderr",
     "output_type": "stream",
     "text": [
      "100%|█████████████████████████████████████████████| 5/5 [00:05<00:00,  1.02s/it]\n",
      "C:\\Users\\David\\Anaconda3\\lib\\site-packages\\sklearn\\tree\\_classes.py:590: RuntimeWarning: invalid value encountered in true_divide\n",
      "  return self.tree_.compute_feature_importances()\n"
     ]
    }
   ],
   "source": [
    "max_max_depth = 10\n",
    "max_depths = range(1,max_max_depth+1)\n",
    "learning_rates = np.arange(0.2, 1.1, 0.2)\n",
    "accuracy, f_scores, attributes = {}, {}, {}\n",
    "SEED = 10\n",
    "\n",
    "for learning in learning_rates:\n",
    "    accs, fs = [], []\n",
    "    for max_d in max_depths:\n",
    "        print(f'Running AdaBoost with learning_rate={learning} and max_depth={max_d}')\n",
    "        base = tree.DecisionTreeClassifier(max_depth=max_d, random_state=SEED)\n",
    "        adaB = ensemble.AdaBoostClassifier(base_estimator=base, n_estimators=100, learning_rate=learning, random_state=SEED)\n",
    "        skf = model_selection.StratifiedKFold(n_splits=5, shuffle=True, random_state=SEED)\n",
    "        predictions, truths = [], []\n",
    "\n",
    "        for train_idx, test_idx in tqdm.tqdm(skf.split(X, y), total=skf.get_n_splits(), ncols=80):\n",
    "            X_train, X_test = X.iloc[train_idx], X.iloc[test_idx]\n",
    "            y_train, y_test = y[train_idx], y[test_idx]\n",
    "\n",
    "            adaB.fit(X_train, y_train)\n",
    "            predictions.extend(adaB.predict(X_test))\n",
    "            truths.extend(y_test)\n",
    "\n",
    "        predictions = np.array(predictions)\n",
    "        truths = np.array(truths)\n",
    "\n",
    "        accs.append(np.sum(predictions==truths)/float(len(predictions)))\n",
    "        fs.append(metrics.f1_score(truths, predictions, average=\"weighted\"))\n",
    "        # Round learning rate to one decimal due to float precision\n",
    "        attributes[np.round(learning,1),max_d] = adaB.feature_importances_\n",
    "\n",
    "    accuracy[learning] = accs\n",
    "    f_scores[learning] = fs"
   ]
  },
  {
   "cell_type": "code",
   "execution_count": 6,
   "metadata": {},
   "outputs": [],
   "source": [
    "def plot_metric(metric):\n",
    "    fig, ax = plt.subplots(1, 1)\n",
    "    ax.grid(zorder=0)\n",
    "    for learning in learning_rates:\n",
    "        if metric == \"Accuracy\":\n",
    "            ax.plot(accuracy[learning], label=f\"learning = {np.round(learning,1)}\", zorder=2)\n",
    "        else:\n",
    "            ax.plot(f_scores[learning], label=f\"learning = {np.round(learning,1)}\", zorder=2)\n",
    "    ax.legend(loc=4, framealpha=1)\n",
    "    ax.set_xticks(range(max_max_depth))\n",
    "    ax.set_xticklabels(max_depths)\n",
    "    ax.set_xlabel(\"depth\")\n",
    "    ax.set_ylabel(metric)\n",
    "    ax.set_title(f\"{metric} for various depth values\")"
   ]
  },
  {
   "cell_type": "code",
   "execution_count": 7,
   "metadata": {},
   "outputs": [
    {
     "data": {
      "text/plain": [
       "<matplotlib.legend.Legend at 0x1db23d28630>"
      ]
     },
     "execution_count": 7,
     "metadata": {},
     "output_type": "execute_result"
    },
    {
     "data": {
      "image/png": "[encoded data removed]",
      "text/plain": [
       "<Figure size 432x288 with 1 Axes>"
      ]
     },
     "metadata": {
      "needs_background": "light"
     },
     "output_type": "display_data"
    },
    {
     "data": {
      "image/png": "[encoded data removed]",
      "text/plain": [
       "<Figure size 432x288 with 1 Axes>"
      ]
     },
     "metadata": {
      "needs_background": "light"
     },
     "output_type": "display_data"
    },
    {
     "data": {
      "image/png": "[encoded data removed]",
      "text/plain": [
       "<Figure size 720x360 with 1 Axes>"
      ]
     },
     "metadata": {
      "needs_background": "light"
     },
     "output_type": "display_data"
    }
   ],
   "source": [
    "plot_metric(\"Accuracy\")\n",
    "plot_metric(\"F1-score\")\n",
    "\n",
    "attributes_d10 = attributes[0.6,10]\n",
    "attributes_d1  = attributes[0.2,1]\n",
    "\n",
    "scale = 3\n",
    "displace = 0.5\n",
    "fig, ax = plt.subplots(1, 1, figsize=(10,5))\n",
    "ax.grid(zorder=0)\n",
    "ax.bar(np.arange(len(attributes_d1))*scale-displace, attributes_d1, label=\"depth=1, learning=0.2\", zorder=2)\n",
    "ax.bar(np.arange(len(attributes_d10))*scale+displace, attributes_d10, label=\"depth=10, learning=0.6\", zorder=2)\n",
    "ax.set_xticks(np.arange(len(attributes_d10))*scale)\n",
    "ax.set_xticklabels([colname.replace(\" \", \"\\n\") for colname in X.columns])\n",
    "ax.set_xlabel(\"Attributes\")\n",
    "ax.set_ylabel(\"Attribute importance\")\n",
    "ax.set_title(\"Attribute importance for two different AdaBoost configurations\")\n",
    "ax.legend(framealpha=1)"
   ]
  },
  {
   "cell_type": "code",
   "execution_count": null,
   "metadata": {},
   "outputs": [],
   "source": []
  }
 ],
 "metadata": {
  "kernelspec": {
   "display_name": "Python 3",
   "language": "python",
   "name": "python3"
  },
  "language_info": {
   "codemirror_mode": {
    "name": "ipython",
    "version": 3
   },
   "file_extension": ".py",
   "mimetype": "text/x-python",
   "name": "python",
   "nbconvert_exporter": "python",
   "pygments_lexer": "ipython3",
   "version": "3.7.3"
  }
 },
 "nbformat": 4,
 "nbformat_minor": 4
}
